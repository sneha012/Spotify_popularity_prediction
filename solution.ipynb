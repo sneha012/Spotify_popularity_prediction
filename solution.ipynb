{
 "cells": [
  {
   "cell_type": "markdown",
   "id": "2a725050-f0d0-41a5-84ca-64eee3bd9c1a",
   "metadata": {},
   "source": [
    "## Song Popularity Prediction for Spotify Dataset"
   ]
  },
  {
   "cell_type": "markdown",
   "id": "47770794-fd7d-4c7c-b217-e43e53c1154a",
   "metadata": {},
   "source": [
    "### Importing Libraries"
   ]
  },
  {
   "cell_type": "code",
   "execution_count": 1,
   "id": "f3c2b8d8-b81a-45f1-b6ce-31dca9801bd6",
   "metadata": {},
   "outputs": [],
   "source": [
    "import os\n",
    "\n",
    "import matplotlib.pyplot as plt\n",
    "import numpy as np\n",
    "import pandas as pd\n",
    "\n",
    "from sklearn import datasets\n",
    "from sklearn.compose import ColumnTransformer, make_column_transformer\n",
    "from sklearn.dummy import DummyRegressor\n",
    "from sklearn.ensemble import RandomForestRegressor\n",
    "from sklearn.feature_extraction.text import CountVectorizer\n",
    "from sklearn.impute import SimpleImputer\n",
    "from sklearn.linear_model import Ridge\n",
    "\n",
    "from sklearn.model_selection import (\n",
    "    cross_val_score,\n",
    "    cross_validate,\n",
    "    train_test_split,\n",
    ")\n",
    "\n",
    "from sklearn.pipeline import Pipeline, make_pipeline\n",
    "from sklearn.preprocessing import OneHotEncoder, OrdinalEncoder, StandardScaler\n",
    "from sklearn.tree import DecisionTreeRegressor, export_graphviz\n",
    "\n",
    "%matplotlib inline"
   ]
  },
  {
   "cell_type": "markdown",
   "id": "0a05cea3-3781-4a49-aeaa-17793f62b2cd",
   "metadata": {},
   "source": [
    "### Data Preprocessing"
   ]
  },
  {
   "cell_type": "code",
   "execution_count": 2,
   "id": "40be9242-fab0-4e7a-bcbe-c146c290610b",
   "metadata": {},
   "outputs": [
    {
     "data": {
      "text/html": [
       "<div>\n",
       "<style scoped>\n",
       "    .dataframe tbody tr th:only-of-type {\n",
       "        vertical-align: middle;\n",
       "    }\n",
       "\n",
       "    .dataframe tbody tr th {\n",
       "        vertical-align: top;\n",
       "    }\n",
       "\n",
       "    .dataframe thead th {\n",
       "        text-align: right;\n",
       "    }\n",
       "</style>\n",
       "<table border=\"1\" class=\"dataframe\">\n",
       "  <thead>\n",
       "    <tr style=\"text-align: right;\">\n",
       "      <th></th>\n",
       "      <th>genre</th>\n",
       "      <th>artist_name</th>\n",
       "      <th>track_name</th>\n",
       "      <th>track_id</th>\n",
       "      <th>popularity</th>\n",
       "      <th>acousticness</th>\n",
       "      <th>danceability</th>\n",
       "      <th>duration_ms</th>\n",
       "      <th>energy</th>\n",
       "      <th>instrumentalness</th>\n",
       "      <th>key</th>\n",
       "      <th>liveness</th>\n",
       "      <th>loudness</th>\n",
       "      <th>mode</th>\n",
       "      <th>speechiness</th>\n",
       "      <th>tempo</th>\n",
       "      <th>time_signature</th>\n",
       "      <th>valence</th>\n",
       "    </tr>\n",
       "  </thead>\n",
       "  <tbody>\n",
       "    <tr>\n",
       "      <th>0</th>\n",
       "      <td>Movie</td>\n",
       "      <td>Henri Salvador</td>\n",
       "      <td>C'est beau de faire un Show</td>\n",
       "      <td>0BRjO6ga9RKCKjfDqeFgWV</td>\n",
       "      <td>0</td>\n",
       "      <td>0.611</td>\n",
       "      <td>0.389</td>\n",
       "      <td>99373</td>\n",
       "      <td>0.910</td>\n",
       "      <td>0.000</td>\n",
       "      <td>C#</td>\n",
       "      <td>0.3460</td>\n",
       "      <td>-1.828</td>\n",
       "      <td>Major</td>\n",
       "      <td>0.0525</td>\n",
       "      <td>166.969</td>\n",
       "      <td>4/4</td>\n",
       "      <td>0.814</td>\n",
       "    </tr>\n",
       "    <tr>\n",
       "      <th>1</th>\n",
       "      <td>Movie</td>\n",
       "      <td>Martin &amp; les fées</td>\n",
       "      <td>Perdu d'avance (par Gad Elmaleh)</td>\n",
       "      <td>0BjC1NfoEOOusryehmNudP</td>\n",
       "      <td>1</td>\n",
       "      <td>0.246</td>\n",
       "      <td>0.590</td>\n",
       "      <td>137373</td>\n",
       "      <td>0.737</td>\n",
       "      <td>0.000</td>\n",
       "      <td>F#</td>\n",
       "      <td>0.1510</td>\n",
       "      <td>-5.559</td>\n",
       "      <td>Minor</td>\n",
       "      <td>0.0868</td>\n",
       "      <td>174.003</td>\n",
       "      <td>4/4</td>\n",
       "      <td>0.816</td>\n",
       "    </tr>\n",
       "    <tr>\n",
       "      <th>2</th>\n",
       "      <td>Movie</td>\n",
       "      <td>Joseph Williams</td>\n",
       "      <td>Don't Let Me Be Lonely Tonight</td>\n",
       "      <td>0CoSDzoNIKCRs124s9uTVy</td>\n",
       "      <td>3</td>\n",
       "      <td>0.952</td>\n",
       "      <td>0.663</td>\n",
       "      <td>170267</td>\n",
       "      <td>0.131</td>\n",
       "      <td>0.000</td>\n",
       "      <td>C</td>\n",
       "      <td>0.1030</td>\n",
       "      <td>-13.879</td>\n",
       "      <td>Minor</td>\n",
       "      <td>0.0362</td>\n",
       "      <td>99.488</td>\n",
       "      <td>5/4</td>\n",
       "      <td>0.368</td>\n",
       "    </tr>\n",
       "    <tr>\n",
       "      <th>3</th>\n",
       "      <td>Movie</td>\n",
       "      <td>Henri Salvador</td>\n",
       "      <td>Dis-moi Monsieur Gordon Cooper</td>\n",
       "      <td>0Gc6TVm52BwZD07Ki6tIvf</td>\n",
       "      <td>0</td>\n",
       "      <td>0.703</td>\n",
       "      <td>0.240</td>\n",
       "      <td>152427</td>\n",
       "      <td>0.326</td>\n",
       "      <td>0.000</td>\n",
       "      <td>C#</td>\n",
       "      <td>0.0985</td>\n",
       "      <td>-12.178</td>\n",
       "      <td>Major</td>\n",
       "      <td>0.0395</td>\n",
       "      <td>171.758</td>\n",
       "      <td>4/4</td>\n",
       "      <td>0.227</td>\n",
       "    </tr>\n",
       "    <tr>\n",
       "      <th>4</th>\n",
       "      <td>Movie</td>\n",
       "      <td>Fabien Nataf</td>\n",
       "      <td>Ouverture</td>\n",
       "      <td>0IuslXpMROHdEPvSl1fTQK</td>\n",
       "      <td>4</td>\n",
       "      <td>0.950</td>\n",
       "      <td>0.331</td>\n",
       "      <td>82625</td>\n",
       "      <td>0.225</td>\n",
       "      <td>0.123</td>\n",
       "      <td>F</td>\n",
       "      <td>0.2020</td>\n",
       "      <td>-21.150</td>\n",
       "      <td>Major</td>\n",
       "      <td>0.0456</td>\n",
       "      <td>140.576</td>\n",
       "      <td>4/4</td>\n",
       "      <td>0.390</td>\n",
       "    </tr>\n",
       "  </tbody>\n",
       "</table>\n",
       "</div>"
      ],
      "text/plain": [
       "   genre        artist_name                        track_name  \\\n",
       "0  Movie     Henri Salvador       C'est beau de faire un Show   \n",
       "1  Movie  Martin & les fées  Perdu d'avance (par Gad Elmaleh)   \n",
       "2  Movie    Joseph Williams    Don't Let Me Be Lonely Tonight   \n",
       "3  Movie     Henri Salvador    Dis-moi Monsieur Gordon Cooper   \n",
       "4  Movie       Fabien Nataf                         Ouverture   \n",
       "\n",
       "                 track_id  popularity  acousticness  danceability  \\\n",
       "0  0BRjO6ga9RKCKjfDqeFgWV           0         0.611         0.389   \n",
       "1  0BjC1NfoEOOusryehmNudP           1         0.246         0.590   \n",
       "2  0CoSDzoNIKCRs124s9uTVy           3         0.952         0.663   \n",
       "3  0Gc6TVm52BwZD07Ki6tIvf           0         0.703         0.240   \n",
       "4  0IuslXpMROHdEPvSl1fTQK           4         0.950         0.331   \n",
       "\n",
       "   duration_ms  energy  instrumentalness key  liveness  loudness   mode  \\\n",
       "0        99373   0.910             0.000  C#    0.3460    -1.828  Major   \n",
       "1       137373   0.737             0.000  F#    0.1510    -5.559  Minor   \n",
       "2       170267   0.131             0.000   C    0.1030   -13.879  Minor   \n",
       "3       152427   0.326             0.000  C#    0.0985   -12.178  Major   \n",
       "4        82625   0.225             0.123   F    0.2020   -21.150  Major   \n",
       "\n",
       "   speechiness    tempo time_signature  valence  \n",
       "0       0.0525  166.969            4/4    0.814  \n",
       "1       0.0868  174.003            4/4    0.816  \n",
       "2       0.0362   99.488            5/4    0.368  \n",
       "3       0.0395  171.758            4/4    0.227  \n",
       "4       0.0456  140.576            4/4    0.390  "
      ]
     },
     "execution_count": 2,
     "metadata": {},
     "output_type": "execute_result"
    }
   ],
   "source": [
    "spotify_df = pd.read_csv(\"SpotifyFeatures.csv\")\n",
    "spotify_df.head()"
   ]
  },
  {
   "cell_type": "markdown",
   "id": "ee7c72fe-9315-4d2d-833a-1b293359c17d",
   "metadata": {},
   "source": [
    "I'm cleaning up the CSV a bit. In particular, \n",
    "\n",
    "- I'm changing popularity of 0 to 1 to avoid divide by zero errors latter. Note that the popularity ranges from 0 to 100, with 0 being least popular and 100 being most popular. So changing the popularity from 0 to 1 should not make a huge difference.\n",
    "- Seems like the genre feature has two slightly different versions of the category Children's Music with two different quotation marks (` and '). I'm mapping them both to \"Children's Music\". "
   ]
  },
  {
   "cell_type": "code",
   "execution_count": 3,
   "id": "529430ad-1ea8-4442-a90c-fe2893647380",
   "metadata": {},
   "outputs": [],
   "source": [
    "spotify_df.loc[spotify_df[\"popularity\"] == 0, \"popularity\"] = 1"
   ]
  },
  {
   "cell_type": "code",
   "execution_count": 4,
   "id": "7097203d-0196-4cac-91e7-d2be702eacea",
   "metadata": {},
   "outputs": [
    {
     "data": {
      "text/plain": [
       "Comedy              9681\n",
       "Soundtrack          9646\n",
       "Indie               9543\n",
       "Jazz                9441\n",
       "Pop                 9386\n",
       "Electronic          9377\n",
       "Children’s Music    9353\n",
       "Folk                9299\n",
       "Hip-Hop             9295\n",
       "Rock                9272\n",
       "Alternative         9263\n",
       "Classical           9256\n",
       "Rap                 9232\n",
       "World               9096\n",
       "Soul                9089\n",
       "Blues               9023\n",
       "R&B                 8992\n",
       "Anime               8936\n",
       "Reggaeton           8927\n",
       "Ska                 8874\n",
       "Reggae              8771\n",
       "Dance               8701\n",
       "Country             8664\n",
       "Opera               8280\n",
       "Movie               7806\n",
       "Children's Music    5403\n",
       "A Capella            119\n",
       "Name: genre, dtype: int64"
      ]
     },
     "execution_count": 4,
     "metadata": {},
     "output_type": "execute_result"
    }
   ],
   "source": [
    "spotify_df[\"genre\"].value_counts()"
   ]
  },
  {
   "cell_type": "markdown",
   "id": "355db9b3-5ae0-4772-96c9-4b4968f31c50",
   "metadata": {},
   "source": [
    "### Data Splitting (Train & Test Set)\n",
    "\n",
    "This dataset is large and since we want to explore ensemble methods which can be computationally intensive. So when we split the data, I am putting most of the data in the test split."
   ]
  },
  {
   "cell_type": "code",
   "execution_count": 6,
   "id": "32bca3c8-d1bd-44c3-ba16-eefd4175248e",
   "metadata": {},
   "outputs": [],
   "source": [
    "train_df, test_df = train_test_split(spotify_df, test_size=0.90, random_state=123)"
   ]
  },
  {
   "cell_type": "code",
   "execution_count": 7,
   "id": "248593b2-1aee-4c5d-9d16-cfc34f35defa",
   "metadata": {},
   "outputs": [
    {
     "data": {
      "text/plain": [
       "(23272, 18)"
      ]
     },
     "execution_count": 7,
     "metadata": {},
     "output_type": "execute_result"
    }
   ],
   "source": [
    "train_df.shape"
   ]
  },
  {
   "cell_type": "code",
   "execution_count": 8,
   "id": "58edafaf-df61-4519-8305-9c1b1b007977",
   "metadata": {},
   "outputs": [
    {
     "name": "stdout",
     "output_type": "stream",
     "text": [
      "<class 'pandas.core.frame.DataFrame'>\n",
      "Int64Index: 23272 entries, 83705 to 15725\n",
      "Data columns (total 18 columns):\n",
      " #   Column            Non-Null Count  Dtype  \n",
      "---  ------            --------------  -----  \n",
      " 0   genre             23272 non-null  object \n",
      " 1   artist_name       23272 non-null  object \n",
      " 2   track_name        23272 non-null  object \n",
      " 3   track_id          23272 non-null  object \n",
      " 4   popularity        23272 non-null  int64  \n",
      " 5   acousticness      23272 non-null  float64\n",
      " 6   danceability      23272 non-null  float64\n",
      " 7   duration_ms       23272 non-null  int64  \n",
      " 8   energy            23272 non-null  float64\n",
      " 9   instrumentalness  23272 non-null  float64\n",
      " 10  key               23272 non-null  object \n",
      " 11  liveness          23272 non-null  float64\n",
      " 12  loudness          23272 non-null  float64\n",
      " 13  mode              23272 non-null  object \n",
      " 14  speechiness       23272 non-null  float64\n",
      " 15  tempo             23272 non-null  float64\n",
      " 16  time_signature    23272 non-null  object \n",
      " 17  valence           23272 non-null  float64\n",
      "dtypes: float64(9), int64(2), object(7)\n",
      "memory usage: 3.4+ MB\n"
     ]
    }
   ],
   "source": [
    "train_df.info()"
   ]
  },
  {
   "cell_type": "code",
   "execution_count": 9,
   "id": "d01a1871-d660-4883-a927-49b2804366dd",
   "metadata": {},
   "outputs": [],
   "source": [
    "# Segregating features\n",
    "\n",
    "drop_features = [\"track_id\", \"artist_name\"]\n",
    "binary_features = [\"mode\"]\n",
    "categorical_features = [\"genre\", \"time_signature\", \"key\"]\n",
    "text_feature = \"track_name\"\n",
    "target = \"popularity\"\n",
    "numeric_features = list(\n",
    "    set(train_df.columns)\n",
    "    - set(drop_features)\n",
    "    - set([text_feature])\n",
    "    - set(binary_features)\n",
    "    - set(categorical_features)\n",
    "    - set([target])\n",
    ")\n",
    "assert train_df.columns.shape[0] == len(\n",
    "    drop_features\n",
    "    + binary_features\n",
    "    + categorical_features\n",
    "    + numeric_features\n",
    "    + [text_feature]\n",
    "    + [target]\n",
    ")"
   ]
  },
  {
   "cell_type": "code",
   "execution_count": 10,
   "id": "aca6becd-5863-4adc-8517-5e0f38f75df4",
   "metadata": {},
   "outputs": [],
   "source": [
    "# Building the column transformer\n",
    "\n",
    "preprocessor_all = make_column_transformer(\n",
    "    (StandardScaler(), numeric_features),\n",
    "    (OneHotEncoder(drop=\"if_binary\", dtype=\"int\"), binary_features),\n",
    "    (OneHotEncoder(handle_unknown=\"ignore\", dtype=\"int\"), categorical_features),\n",
    "    (CountVectorizer(stop_words=\"english\", max_features=100), text_feature),\n",
    "    (\"drop\", drop_features),\n",
    ")  # preprocessor which includes all features"
   ]
  },
  {
   "cell_type": "code",
   "execution_count": 11,
   "id": "d02b78ea-7496-4d69-bf08-f621005a683e",
   "metadata": {},
   "outputs": [],
   "source": [
    "X_train, y_train = train_df.drop(columns=[target]), train_df[target]\n",
    "X_test, y_test = test_df.drop(columns=[target]), test_df[target]"
   ]
  },
  {
   "cell_type": "code",
   "execution_count": 12,
   "id": "775b5277-844a-46db-b26b-b4eea99bf1f9",
   "metadata": {},
   "outputs": [],
   "source": [
    "preprocessor_all.fit(X_train);"
   ]
  },
  {
   "cell_type": "markdown",
   "id": "5ee2dcc4-429e-4c52-9bc0-3ae102a766fc",
   "metadata": {},
   "source": [
    "### Exploratory Data Analysis (EDA)"
   ]
  },
  {
   "cell_type": "code",
   "execution_count": 13,
   "id": "902b8064-a832-4a21-80e7-abc9bf1a2016",
   "metadata": {},
   "outputs": [
    {
     "data": {
      "image/png": "[encoded data removed]",
      "text/plain": [
       "<Figure size 864x720 with 2 Axes>"
      ]
     },
     "metadata": {
      "needs_background": "light"
     },
     "output_type": "display_data"
    }
   ],
   "source": [
    "features = [\n",
    "    \"acousticness\",\n",
    "    \"danceability\",\n",
    "    \"energy\",\n",
    "    \"instrumentalness\",\n",
    "    \"liveness\",\n",
    "    \"loudness\",\n",
    "    \"speechiness\",\n",
    "    \"tempo\",\n",
    "    \"popularity\",\n",
    "]\n",
    "cor = train_df[features].corr()\n",
    "cor\n",
    "\n",
    "import seaborn as sns\n",
    "plt.figure(figsize=(12, 10))\n",
    "sns.heatmap(cor, annot=True, cmap=plt.cm.Blues)\n",
    "plt.show()"
   ]
  },
  {
   "cell_type": "markdown",
   "id": "c27f8a92-958d-41d3-a0e7-d9512d0a24d1",
   "metadata": {},
   "source": [
    "### Model Training (Ensembles)"
   ]
  },
  {
   "cell_type": "code",
   "execution_count": 15,
   "id": "ff7f598e-75d3-4c19-8c51-921f4ed46cac",
   "metadata": {},
   "outputs": [],
   "source": [
    "# Since this is a Regression problem, making `mape_scorer` function\n",
    "\n",
    "from sklearn.metrics import make_scorer\n",
    "\n",
    "\n",
    "def mape(true, pred):\n",
    "    return 100.0 * np.mean(np.abs((pred - true) / true))\n",
    "\n",
    "\n",
    "# make a scorer function that we can pass into cross-validation\n",
    "mape_scorer = make_scorer(mape, greater_is_better=False)\n",
    "\n",
    "scoring_metrics = {\n",
    "    \"neg RMSE\": \"neg_root_mean_squared_error\",\n",
    "    \"r2\": \"r2\",\n",
    "    \"mape\": mape_scorer,\n",
    "}"
   ]
  },
  {
   "cell_type": "code",
   "execution_count": 16,
   "id": "b624c3f1-396b-4760-a805-7fd396a6a6e0",
   "metadata": {},
   "outputs": [],
   "source": [
    "results = {}"
   ]
  },
  {
   "cell_type": "code",
   "execution_count": 17,
   "id": "67cd1527-2dac-449c-a063-ea66897a8c84",
   "metadata": {},
   "outputs": [],
   "source": [
    "def mean_std_cross_val_scores(model, X_train, y_train, **kwargs):\n",
    "    \"\"\"\n",
    "    Returns mean and std of cross validation\n",
    "\n",
    "    Parameters\n",
    "    ----------\n",
    "    model :\n",
    "        scikit-learn model\n",
    "    X_train : numpy array or pandas DataFrame\n",
    "        X in the training data\n",
    "    y_train :\n",
    "        y in the training data\n",
    "\n",
    "    Returns\n",
    "    ----------\n",
    "        pandas Series with mean scores from cross_validation\n",
    "    \"\"\"\n",
    "\n",
    "    scores = cross_validate(model, X_train, y_train, **kwargs)\n",
    "\n",
    "    mean_scores = pd.DataFrame(scores).mean()\n",
    "    std_scores = pd.DataFrame(scores).std()\n",
    "    out_col = []\n",
    "\n",
    "    for i in range(len(mean_scores)):\n",
    "        out_col.append((f\"%0.3f (+/- %0.3f)\" % (mean_scores[i], std_scores[i])))\n",
    "\n",
    "    return pd.Series(data=out_col, index=mean_scores.index)"
   ]
  },
  {
   "cell_type": "markdown",
   "id": "e8467901-282d-45c6-bb7b-85eb6ec783a0",
   "metadata": {},
   "source": [
    "#### Dummy Regressor"
   ]
  },
  {
   "cell_type": "code",
   "execution_count": 18,
   "id": "aafa7294-eb8a-4849-bb60-9fdb29f3b6cf",
   "metadata": {},
   "outputs": [
    {
     "data": {
      "text/html": [
       "<div>\n",
       "<style scoped>\n",
       "    .dataframe tbody tr th:only-of-type {\n",
       "        vertical-align: middle;\n",
       "    }\n",
       "\n",
       "    .dataframe tbody tr th {\n",
       "        vertical-align: top;\n",
       "    }\n",
       "\n",
       "    .dataframe thead th {\n",
       "        text-align: right;\n",
       "    }\n",
       "</style>\n",
       "<table border=\"1\" class=\"dataframe\">\n",
       "  <thead>\n",
       "    <tr style=\"text-align: right;\">\n",
       "      <th></th>\n",
       "      <th>Dummy Regressor</th>\n",
       "    </tr>\n",
       "  </thead>\n",
       "  <tbody>\n",
       "    <tr>\n",
       "      <th>fit_time</th>\n",
       "      <td>0.011 (+/- 0.016)</td>\n",
       "    </tr>\n",
       "    <tr>\n",
       "      <th>score_time</th>\n",
       "      <td>0.002 (+/- 0.001)</td>\n",
       "    </tr>\n",
       "    <tr>\n",
       "      <th>test_neg RMSE</th>\n",
       "      <td>-18.103 (+/- 0.097)</td>\n",
       "    </tr>\n",
       "    <tr>\n",
       "      <th>train_neg RMSE</th>\n",
       "      <td>-18.100 (+/- 0.025)</td>\n",
       "    </tr>\n",
       "    <tr>\n",
       "      <th>test_r2</th>\n",
       "      <td>-0.001 (+/- 0.001)</td>\n",
       "    </tr>\n",
       "    <tr>\n",
       "      <th>train_r2</th>\n",
       "      <td>0.000 (+/- 0.000)</td>\n",
       "    </tr>\n",
       "    <tr>\n",
       "      <th>test_mape</th>\n",
       "      <td>-191.726 (+/- 10.022)</td>\n",
       "    </tr>\n",
       "    <tr>\n",
       "      <th>train_mape</th>\n",
       "      <td>-191.694 (+/- 1.963)</td>\n",
       "    </tr>\n",
       "  </tbody>\n",
       "</table>\n",
       "</div>"
      ],
      "text/plain": [
       "                      Dummy Regressor\n",
       "fit_time            0.011 (+/- 0.016)\n",
       "score_time          0.002 (+/- 0.001)\n",
       "test_neg RMSE     -18.103 (+/- 0.097)\n",
       "train_neg RMSE    -18.100 (+/- 0.025)\n",
       "test_r2            -0.001 (+/- 0.001)\n",
       "train_r2            0.000 (+/- 0.000)\n",
       "test_mape       -191.726 (+/- 10.022)\n",
       "train_mape       -191.694 (+/- 1.963)"
      ]
     },
     "execution_count": 18,
     "metadata": {},
     "output_type": "execute_result"
    }
   ],
   "source": [
    "dummy_regressor_pipe = DummyRegressor()\n",
    "results['Dummy Regressor'] = mean_std_cross_val_scores(dummy_regressor_pipe, X_train, y_train, scoring = scoring_metrics, return_train_score = True)\n",
    "pd.DataFrame(results)"
   ]
  },
  {
   "cell_type": "markdown",
   "id": "5b56a72c-1230-4790-b6c4-61c95c6960d4",
   "metadata": {},
   "source": [
    "#### Decision Tree Regressor"
   ]
  },
  {
   "cell_type": "code",
   "execution_count": 20,
   "id": "663966e6-af7f-48b0-ae08-d3a80c969360",
   "metadata": {},
   "outputs": [
    {
     "data": {
      "text/html": [
       "<div>\n",
       "<style scoped>\n",
       "    .dataframe tbody tr th:only-of-type {\n",
       "        vertical-align: middle;\n",
       "    }\n",
       "\n",
       "    .dataframe tbody tr th {\n",
       "        vertical-align: top;\n",
       "    }\n",
       "\n",
       "    .dataframe thead th {\n",
       "        text-align: right;\n",
       "    }\n",
       "</style>\n",
       "<table border=\"1\" class=\"dataframe\">\n",
       "  <thead>\n",
       "    <tr style=\"text-align: right;\">\n",
       "      <th></th>\n",
       "      <th>Dummy Regressor</th>\n",
       "      <th>Decision Tree Regressor</th>\n",
       "    </tr>\n",
       "  </thead>\n",
       "  <tbody>\n",
       "    <tr>\n",
       "      <th>fit_time</th>\n",
       "      <td>0.011 (+/- 0.016)</td>\n",
       "      <td>1.444 (+/- 0.013)</td>\n",
       "    </tr>\n",
       "    <tr>\n",
       "      <th>score_time</th>\n",
       "      <td>0.002 (+/- 0.001)</td>\n",
       "      <td>0.026 (+/- 0.000)</td>\n",
       "    </tr>\n",
       "    <tr>\n",
       "      <th>test_neg RMSE</th>\n",
       "      <td>-18.103 (+/- 0.097)</td>\n",
       "      <td>-13.179 (+/- 0.127)</td>\n",
       "    </tr>\n",
       "    <tr>\n",
       "      <th>train_neg RMSE</th>\n",
       "      <td>-18.100 (+/- 0.025)</td>\n",
       "      <td>-0.004 (+/- 0.002)</td>\n",
       "    </tr>\n",
       "    <tr>\n",
       "      <th>test_r2</th>\n",
       "      <td>-0.001 (+/- 0.001)</td>\n",
       "      <td>0.470 (+/- 0.011)</td>\n",
       "    </tr>\n",
       "    <tr>\n",
       "      <th>train_r2</th>\n",
       "      <td>0.000 (+/- 0.000)</td>\n",
       "      <td>1.000 (+/- 0.000)</td>\n",
       "    </tr>\n",
       "    <tr>\n",
       "      <th>test_mape</th>\n",
       "      <td>-191.726 (+/- 10.022)</td>\n",
       "      <td>-64.358 (+/- 2.177)</td>\n",
       "    </tr>\n",
       "    <tr>\n",
       "      <th>train_mape</th>\n",
       "      <td>-191.694 (+/- 1.963)</td>\n",
       "      <td>-0.000 (+/- 0.000)</td>\n",
       "    </tr>\n",
       "  </tbody>\n",
       "</table>\n",
       "</div>"
      ],
      "text/plain": [
       "                      Dummy Regressor Decision Tree Regressor\n",
       "fit_time            0.011 (+/- 0.016)       1.444 (+/- 0.013)\n",
       "score_time          0.002 (+/- 0.001)       0.026 (+/- 0.000)\n",
       "test_neg RMSE     -18.103 (+/- 0.097)     -13.179 (+/- 0.127)\n",
       "train_neg RMSE    -18.100 (+/- 0.025)      -0.004 (+/- 0.002)\n",
       "test_r2            -0.001 (+/- 0.001)       0.470 (+/- 0.011)\n",
       "train_r2            0.000 (+/- 0.000)       1.000 (+/- 0.000)\n",
       "test_mape       -191.726 (+/- 10.022)     -64.358 (+/- 2.177)\n",
       "train_mape       -191.694 (+/- 1.963)      -0.000 (+/- 0.000)"
      ]
     },
     "execution_count": 20,
     "metadata": {},
     "output_type": "execute_result"
    }
   ],
   "source": [
    "decisiontree_regressor_pipe = make_pipeline(preprocessor_all, DecisionTreeRegressor())\n",
    "results['Decision Tree Regressor'] = mean_std_cross_val_scores(decisiontree_regressor_pipe, X_train, y_train, return_train_score = True, scoring = scoring_metrics)\n",
    "pd.DataFrame(results)"
   ]
  },
  {
   "cell_type": "markdown",
   "id": "9dbddaf9-fdc5-42a8-a461-a13619954a57",
   "metadata": {},
   "source": [
    "#### Multiple Regressor models"
   ]
  },
  {
   "cell_type": "code",
   "execution_count": 21,
   "id": "8c720f1f-b840-4498-944a-899be75dd8b6",
   "metadata": {},
   "outputs": [],
   "source": [
    "from xgboost import XGBRegressor\n",
    "from lightgbm.sklearn import LGBMRegressor\n",
    "from catboost import CatBoostRegressor\n",
    "\n",
    "pipe_ridge = make_pipeline(preprocessor_all, Ridge(random_state = 123))\n",
    "pipe_random_forest = make_pipeline(preprocessor_all, RandomForestRegressor(random_state = 123))\n",
    "pipe_xgboost = make_pipeline(preprocessor_all, XGBRegressor(random_state = 123,  eval_metric=\"logloss\", verbosity=0))\n",
    "pipe_lgbm = make_pipeline(preprocessor_all, LGBMRegressor(random_state = 123))\n",
    "pipe_catboost = make_pipeline(preprocessor_all, CatBoostRegressor(random_state = 123, verbose=0))\n",
    "models = {\n",
    "    'Ridge' : pipe_ridge,\n",
    "    'Random Forest' : pipe_random_forest,\n",
    "    'XGBoost' : pipe_xgboost,\n",
    "    'LGBM' : pipe_lgbm,\n",
    "    'CatBoost' : pipe_catboost\n",
    "}\n",
    "   "
   ]
  },
  {
   "cell_type": "code",
   "execution_count": null,
   "id": "936ee171-6afd-4e61-8bd2-2db5dd8d8791",
   "metadata": {},
   "outputs": [],
   "source": [
    "for i in range(len(models)):\n",
    "    models_pipeline = list(models.values())[i]\n",
    "    models_pipeline.fit(X_train, y_train)\n",
    "    results[list(models.keys())[i]] = mean_std_cross_val_scores(models_pipeline, X_train, y_train, cv=5, return_train_score = True, scoring = scoring_metrics)\n",
    "pd.DataFrame(results)"
   ]
  },
  {
   "cell_type": "markdown",
   "id": "0f3cc9ca-bab6-4140-a710-3cc840a6baa4",
   "metadata": {},
   "source": [
    "**Analysis**\n",
    "\n",
    "1) **Best Performing Model** - If we consider the R^2 metric to choose the best performing model, we can see that the train R^2 and the test R^2 of the Random forest model have a big gap and the train R^2 is pretty high. So, the Random Forest model seems to be overfitted compared to the other models. However, if we compare the R^2 score for Catboost model, we can see test R^2 is comparable to Random forest and the model does not seem to be overfitted. Even if we consider a different metric like MAPE, we see that CatBoost model seems to perform the best.\n",
    "\n",
    "    **Worst Performing Model** - As we can see from the scores above, the worst performing model is Ridge with the worst test R^2 and test MAPE score compared to the other models.\n",
    "\n",
    "2) **Overfitting/Underfitting** - Random forest and Xgboost seem to be the overfitted models as they have high train R^2 scores and the gap between the train and test R^2 are little big as well. Since both are tree based model and we haven't specified the hyperparameter for controlling the learning, the models seem to have overfitted.\n",
    "It is very evident that the Ridge is underfitted and the model is not able to appropriately capture the trends of the data.\n",
    "\n",
    "3) **Fit time** - Random forest takes the longest to fit as it has to fit default number of trees (100 according to scikit learn). Ridge takes the lowest time to fit the model.\n",
    "\n",
    "4) **Score time** - Random forest is the slowest in scoring as it individually scores all the trees and cummulates the result. Ridge is the fastest model for scoring as it is a parametric model."
   ]
  },
  {
   "cell_type": "markdown",
   "id": "4fc95cb8-24db-4b73-96f8-663e8a8f2eb3",
   "metadata": {},
   "source": [
    "#### Voting Regressor"
   ]
  },
  {
   "cell_type": "code",
   "execution_count": null,
   "id": "54393cfa-76e0-4d8c-bcde-7b6b802673c8",
   "metadata": {},
   "outputs": [],
   "source": [
    "from sklearn.ensemble import VotingRegressor\n",
    "averaging_model = VotingRegressor(\n",
    "    list(models.items())\n",
    ")"
   ]
  },
  {
   "cell_type": "code",
   "execution_count": null,
   "id": "a4e86424-9577-4af4-a6fa-d9e1f17ee8d9",
   "metadata": {},
   "outputs": [],
   "source": [
    "results['Voting Regressor'] = mean_std_cross_val_scores(averaging_model, X_train, y_train, return_train_score = True, scoring = scoring_metrics)\n",
    "pd.DataFrame(results)"
   ]
  },
  {
   "cell_type": "markdown",
   "id": "d11360fc-5f04-4253-a0cb-95c8e4813a9c",
   "metadata": {},
   "source": [
    "#### Stacking Regressor"
   ]
  },
  {
   "cell_type": "code",
   "execution_count": null,
   "id": "cf8b2280-8e01-43a2-8234-31617e7268d0",
   "metadata": {},
   "outputs": [],
   "source": [
    "from sklearn.ensemble import StackingRegressor\n",
    "stacking_model = StackingRegressor(\n",
    "    list(models.items()), final_estimator = Ridge())\n",
    "\n",
    "stacking_model.fit(X_train, y_train)"
   ]
  },
  {
   "cell_type": "code",
   "execution_count": null,
   "id": "b48ed217-5458-4951-b233-4f07968a8b3f",
   "metadata": {},
   "outputs": [],
   "source": [
    "results['Stacking Regressor'] = mean_std_cross_val_scores(stacking_model, X_train, y_train, return_train_score = True, scoring = scoring_metrics)\n",
    "pd.DataFrame(results)"
   ]
  },
  {
   "cell_type": "code",
   "execution_count": null,
   "id": "2329afbf-26d7-427c-8ccc-1abfd944b733",
   "metadata": {},
   "outputs": [],
   "source": []
  }
 ],
 "metadata": {
  "kernelspec": {
   "display_name": "Python [conda env:573]",
   "language": "python",
   "name": "conda-env-573-py"
  },
  "language_info": {
   "codemirror_mode": {
    "name": "ipython",
    "version": 3
   },
   "file_extension": ".py",
   "mimetype": "text/x-python",
   "name": "python",
   "nbconvert_exporter": "python",
   "pygments_lexer": "ipython3",
   "version": "3.9.7"
  }
 },
 "nbformat": 4,
 "nbformat_minor": 5
}
